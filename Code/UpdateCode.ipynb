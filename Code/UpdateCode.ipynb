{
 "cells": [
  {
   "cell_type": "code",
   "execution_count": null,
   "metadata": {
    "vscode": {
     "languageId": "plaintext"
    }
   },
   "outputs": [],
   "source": [
    "current = ACS.mA_AC();\n",
    "voltage = voltageSensor.getRmsVoltage(); \n",
    "currentInAmps = current / 1000.0;\n",
    "P = voltage * currentInAmps * 0.8; //0.8 pf value\n",
    "float  E = 0, E2= 0;\n",
    "for(int i=0; i<50: i++)\n",
    "{\n",
    "\tfor(int i=0;i<50;i++)\n",
    "\t{\n",
    "\t\tE += P * (20/10000);\n",
    "\t\tE += E + ( P * (20/1000));\n",
    "\t}\n",
    "\tE2 = E;\n",
    "\tE2 += P * (20/10000);\n",
    "\tE2 += E2 + ( P * (20/1000));\n",
    "}\n",
    "\n",
    "double kWh = E2 / (3600.0 * 1000.0); \n",
    "\n",
    "Serial.println(\"Total Energy consumed (kWh): \" + String(kWh));\n"
   ]
  }
 ],
 "metadata": {
  "language_info": {
   "name": "python"
  }
 },
 "nbformat": 4,
 "nbformat_minor": 2
}
